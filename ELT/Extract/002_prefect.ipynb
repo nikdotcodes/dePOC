{
 "cells": [
  {
   "cell_type": "markdown",
   "metadata": {},
   "source": [
    "# Setting up Prefect\n",
    "\n",
    "Prefect is an orchestration tool, this is a flow of everything that runs in a database load... The pulling of data, validating, loading, transforming, etc, etc. See it as an altenative to SSIS & SQL Agent Jobs, that looks and works a lot nicer!\n",
    "\n",
    "It also means that we don't have to be tied down to a single toolset to accoplish things, if something would be better done in python which then kicks off a bit of SQL, the orchestration sets that us for us.\n",
    "\n",
    "Prefect is a python module that uses _decorators_ to orchestrate the data flow"
   ]
  },
  {
   "cell_type": "markdown",
   "metadata": {},
   "source": [
    "from prefect  import flow\n",
    "\n",
    "@flow\n",
    "def my_first_flow():\n",
    "    print(\"This function doesn't do too much\")\n",
    "    return 42"
   ]
  },
  {
   "cell_type": "markdown",
   "metadata": {},
   "source": [
    "We set up a basic function that is decorated with `@flow` "
   ]
  },
  {
   "cell_type": "code",
   "execution_count": 2,
   "metadata": {},
   "outputs": [
    {
     "name": "stderr",
     "output_type": "stream",
     "text": [
      "11:23:57.820 | INFO    | prefect.engine - Created flow run 'hypnotic-boa' for flow 'my-first-flow'\n",
      "11:23:57.823 | INFO    | Flow run 'hypnotic-boa' - Using task runner 'ConcurrentTaskRunner'\n",
      "11:23:57.847 | WARNING | Flow run 'hypnotic-boa' - No default storage is configured on the server. Results from this flow run will be stored in a temporary directory in its runtime environment.\n",
      "11:23:57.928 | INFO    | Flow run 'hypnotic-boa' - Finished in state Completed()\n"
     ]
    },
    {
     "name": "stdout",
     "output_type": "stream",
     "text": [
      "This function doesn't do too much\n"
     ]
    }
   ],
   "source": [
    "state = my_first_flow()"
   ]
  },
  {
   "cell_type": "code",
   "execution_count": 3,
   "metadata": {},
   "outputs": [
    {
     "name": "stdout",
     "output_type": "stream",
     "text": [
      "Completed()\n",
      "42\n"
     ]
    }
   ],
   "source": [
    "print(state)\n",
    "print(state.result())"
   ]
  },
  {
   "cell_type": "markdown",
   "metadata": {},
   "source": [
    "## So what happened here?\n",
    "\n",
    "1. We created a basic function that prints something and returns something\n",
    "2. Decorated it with `@flow`\n",
    "3. Assigned the output of the function to variable `state` which we can then query. The output is a Prefect `State` object, to see what is returned we need to access it via `.result()`"
   ]
  },
  {
   "cell_type": "code",
   "execution_count": 6,
   "metadata": {},
   "outputs": [
    {
     "name": "stdout",
     "output_type": "stream",
     "text": [
      "<class 'prefect.orion.schemas.states.State'>\n"
     ]
    }
   ],
   "source": [
    "print(type(state))"
   ]
  },
  {
   "cell_type": "markdown",
   "metadata": {},
   "source": [
    "## Flows and tasks\n",
    "\n",
    "Flows and tasks are the basic blocks of Prefect, they are containers for the workflow logic. Flows can run other flows or tasks; tasks are optional, but provide extra encapsulation in observable units that can be reused across flows and subflows."
   ]
  },
  {
   "cell_type": "code",
   "execution_count": 7,
   "metadata": {},
   "outputs": [
    {
     "name": "stderr",
     "output_type": "stream",
     "text": [
      "12:10:48.352 | INFO    | prefect.engine - Created flow run 'adorable-millipede' for flow 'Example API call flow'\n",
      "12:10:48.354 | INFO    | Flow run 'adorable-millipede' - Using task runner 'ConcurrentTaskRunner'\n",
      "12:10:48.375 | WARNING | Flow run 'adorable-millipede' - No default storage is configured on the server. Results from this flow run will be stored in a temporary directory in its runtime environment.\n",
      "12:10:48.468 | INFO    | Flow run 'adorable-millipede' - Created task run 'call_api-190c7484-0' for task 'call_api'\n",
      "12:10:48.529 | INFO    | Flow run 'adorable-millipede' - Created task run 'parse_fact-b0346046-0' for task 'parse_fact'\n",
      "12:10:50.167 | INFO    | Task run 'call_api-190c7484-0' - Finished in state Completed()\n",
      "12:10:50.268 | INFO    | Task run 'parse_fact-b0346046-0' - Finished in state Completed()\n"
     ]
    },
    {
     "name": "stdout",
     "output_type": "stream",
     "text": [
      "200\n",
      "Cats' hearing is much more sensitive than humans and dogs.\n"
     ]
    },
    {
     "name": "stderr",
     "output_type": "stream",
     "text": [
      "12:10:50.325 | INFO    | Flow run 'adorable-millipede' - Finished in state Completed('All states completed.')\n"
     ]
    }
   ],
   "source": [
    "import os\n",
    "import requests\n",
    "from prefect import flow, task\n",
    "\n",
    "@task\n",
    "def call_api(url):\n",
    "    response = requests.get(url)\n",
    "    print(response.status_code)\n",
    "    return response.json()\n",
    "\n",
    "@task\n",
    "def parse_fact(response):\n",
    "    print(response[\"fact\"])\n",
    "    return\n",
    "\n",
    "@flow(name=\"Example API call flow\",\n",
    "     description=\"An example flow for this tutorial\",\n",
    "     version=os.getenv(\"GIT_COMMIT_SHA\"))\n",
    "def api_flow(url):\n",
    "    fact_json = call_api(url)\n",
    "    parse_fact(fact_json)\n",
    "    return\n",
    "\n",
    "state=api_flow(\"https://catfact.ninja/fact\")"
   ]
  },
  {
   "cell_type": "markdown",
   "metadata": {},
   "source": [
    "## Applying this to NHS Numbers\n",
    "\n",
    "So now we have the basics, let's apply it to our OptOut csv.\n",
    "\n",
    "### The way we'll do it\n",
    "\n",
    "1. Simulate csv delivery - just copy a file from one area to the source folder\n",
    "2. Validate data with great expectations\n",
    "3. Run checksum against data\n",
    "4. Load csv to dataframe, save as a timestamped csv + load into a database"
   ]
  },
  {
   "cell_type": "code",
   "execution_count": null,
   "metadata": {},
   "outputs": [],
   "source": [
    "import os\n",
    "import IO\n",
    "import shutil\n",
    "import pandas as pd\n",
    "from prefect import flow, task\n",
    "\n",
    "@task(name='Copy file to dropzone', description='A simulated drop of the OptOuts csv to the dropzone')\n",
    "def simulate_datadrop(sourcePath: str, destinationPath: str, file: str): -> None:\n",
    "    sourceFile = sourcePath + '\\\\' + file\n",
    "    destFile = destinationPath + '\\\\' + file\n",
    "    shutil.copyfile(sourceFile, destFile)\n",
    "    \n",
    "    \n",
    "    \n",
    "    \n",
    "@flow(name='OptOuts Prefect Flow')\n",
    "def optout_flow():\n",
    "    state = simulate_datadrop('D:\\git\\dePOC\\data\\raw', 'D:\\git\\dePOC\\data\\src', 'OptOuts.csv')"
   ]
  }
 ],
 "metadata": {
  "kernelspec": {
   "display_name": "Python 3 (ipykernel)",
   "language": "python",
   "name": "python3"
  },
  "language_info": {
   "codemirror_mode": {
    "name": "ipython",
    "version": 3
   },
   "file_extension": ".py",
   "mimetype": "text/x-python",
   "name": "python",
   "nbconvert_exporter": "python",
   "pygments_lexer": "ipython3",
   "version": "3.10.2"
  },
  "vscode": {
   "interpreter": {
    "hash": "d87b283dc860421bd1377802e21632de5fa8fbe197371923bf2364904eab60d4"
   }
  }
 },
 "nbformat": 4,
 "nbformat_minor": 2
}
