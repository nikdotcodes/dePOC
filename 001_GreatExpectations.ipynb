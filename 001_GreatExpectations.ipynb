{
 "cells": [
  {
   "cell_type": "markdown",
   "metadata": {},
   "source": [
    "# Setting Up Great Expectations\n",
    "\n",
    "## What is this?\n",
    "\n",
    "Great Expectations is a python module used to validate data coming in, for example ...\n",
    "\n",
    "- Ensure the correct columns and datatypes\n",
    "- Ensure that columns are populated with the values expected\n",
    "- Ensure uniqueness or picklist values\n",
    "- And many more...\n",
    "\n",
    "These validation units are called _\"expectations\"_ which can be found [here](https://greatexpectations.io/expectations)\n",
    "\n",
    "These expectations can be measured against pretty much any data source, whether they are database tables, flat files, excel, parquet, etc... If python can deal\n",
    "with it, then you can run expectations against them.\n",
    "\n",
    "The results of these can be collated into reports and can be used to halt data imports in a manner that won't break the whole data integration lifecycle and \n",
    "allows us to know exactly where are why something fails.\n",
    "\n",
    "## Some setup required"
   ]
  },
  {
   "cell_type": "code",
   "execution_count": 4,
   "metadata": {},
   "outputs": [],
   "source": [
    "import shutil\n",
    "import os\n",
    "\n",
    "shutil.rmtree('expectations', ignore_errors=True)\n",
    "os.mkdir('expectations')"
   ]
  },
  {
   "cell_type": "markdown",
   "metadata": {},
   "source": [
    "## Over to Terminal\n",
    "\n",
    "Next we need to switch over to the terminal to init great expectations\n",
    "\n",
    "``` bash\n",
    "cd expectations\n",
    "great_expectations init\n",
    "```"
   ]
  }
 ],
 "metadata": {
  "kernelspec": {
   "display_name": "Python 3.10.2 64-bit",
   "language": "python",
   "name": "python3"
  },
  "language_info": {
   "codemirror_mode": {
    "name": "ipython",
    "version": 3
   },
   "file_extension": ".py",
   "mimetype": "text/x-python",
   "name": "python",
   "nbconvert_exporter": "python",
   "pygments_lexer": "ipython3",
   "version": "3.10.2"
  },
  "orig_nbformat": 4,
  "vscode": {
   "interpreter": {
    "hash": "d87b283dc860421bd1377802e21632de5fa8fbe197371923bf2364904eab60d4"
   }
  }
 },
 "nbformat": 4,
 "nbformat_minor": 2
}
